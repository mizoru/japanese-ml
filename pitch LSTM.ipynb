{
 "cells": [
  {
   "cell_type": "code",
   "execution_count": 1,
   "id": "bf095f80-e5cf-478f-91f7-b4fbc17772df",
   "metadata": {},
   "outputs": [
    {
     "name": "stderr",
     "output_type": "stream",
     "text": [
      "/home/studio-lab-user/.conda/envs/default/lib/python3.9/site-packages/torchaudio/backend/utils.py:46: UserWarning: \"torchaudio.USE_SOUNDFILE_LEGACY_INTERFACE\" flag is deprecated and will be removed in 0.9.0. Please remove the use of flag.\n",
      "  warnings.warn(\n"
     ]
    }
   ],
   "source": [
    "from fastai.vision.all import *\n",
    "from fastaudio.all import *"
   ]
  },
  {
   "cell_type": "code",
   "execution_count": 2,
   "id": "2a2b1d82-4420-4920-9c08-6b2132950726",
   "metadata": {},
   "outputs": [],
   "source": [
    "path = Path('pitch_accent')"
   ]
  },
  {
   "cell_type": "code",
   "execution_count": 3,
   "id": "ec85499d-b839-4fac-9466-ca09d457393f",
   "metadata": {},
   "outputs": [
    {
     "data": {
      "text/plain": [
       "Path('pitch_accent')"
      ]
     },
     "execution_count": 3,
     "metadata": {},
     "output_type": "execute_result"
    }
   ],
   "source": [
    "path"
   ]
  },
  {
   "cell_type": "code",
   "execution_count": 4,
   "id": "202908c0-c701-406b-83e9-d6842982c5be",
   "metadata": {},
   "outputs": [],
   "source": [
    "labels = pd.read_csv(path / 'all_labeles.csv')\n",
    "labels = labels[labels.pattern.isin(['頭高', '中高', '平板'])];"
   ]
  },
  {
   "cell_type": "code",
   "execution_count": 5,
   "id": "33fd6133-b8d3-484e-b9aa-f2460b964edb",
   "metadata": {},
   "outputs": [],
   "source": [
    "labels[\"is_valid\"] = False"
   ]
  },
  {
   "cell_type": "code",
   "execution_count": 6,
   "id": "becf9061-ffeb-4d9f-a916-81e88bc6c1eb",
   "metadata": {},
   "outputs": [],
   "source": [
    "labels.loc[labels.type == \"ojad male\", \"is_valid\"] = True"
   ]
  },
  {
   "cell_type": "code",
   "execution_count": 7,
   "id": "78b85449-1d64-4fd7-a8a5-dd789647597e",
   "metadata": {},
   "outputs": [
    {
     "data": {
      "text/html": [
       "<div>\n",
       "<style scoped>\n",
       "    .dataframe tbody tr th:only-of-type {\n",
       "        vertical-align: middle;\n",
       "    }\n",
       "\n",
       "    .dataframe tbody tr th {\n",
       "        vertical-align: top;\n",
       "    }\n",
       "\n",
       "    .dataframe thead th {\n",
       "        text-align: right;\n",
       "    }\n",
       "</style>\n",
       "<table border=\"1\" class=\"dataframe\">\n",
       "  <thead>\n",
       "    <tr style=\"text-align: right;\">\n",
       "      <th></th>\n",
       "      <th>path</th>\n",
       "      <th>pattern</th>\n",
       "      <th>kana</th>\n",
       "      <th>morae</th>\n",
       "      <th>drop</th>\n",
       "      <th>type</th>\n",
       "      <th>is_valid</th>\n",
       "    </tr>\n",
       "  </thead>\n",
       "  <tbody>\n",
       "    <tr>\n",
       "      <th>0</th>\n",
       "      <td>accentAudio/ある.yomi000142BB_0596.mp3</td>\n",
       "      <td>頭高</td>\n",
       "      <td>アル</td>\n",
       "      <td>2</td>\n",
       "      <td>1</td>\n",
       "      <td>nhk</td>\n",
       "      <td>False</td>\n",
       "    </tr>\n",
       "    <tr>\n",
       "      <th>1</th>\n",
       "      <td>accentAudio/思う.yomi0006C617_043A.mp3</td>\n",
       "      <td>中高</td>\n",
       "      <td>オモウ</td>\n",
       "      <td>3</td>\n",
       "      <td>2</td>\n",
       "      <td>nhk</td>\n",
       "      <td>False</td>\n",
       "    </tr>\n",
       "    <tr>\n",
       "      <th>2</th>\n",
       "      <td>accentAudio/など.yomi000240B7_0028.mp3</td>\n",
       "      <td>頭高</td>\n",
       "      <td>ナド</td>\n",
       "      <td>2</td>\n",
       "      <td>1</td>\n",
       "      <td>nhk</td>\n",
       "      <td>False</td>\n",
       "    </tr>\n",
       "    <tr>\n",
       "      <th>3</th>\n",
       "      <td>accentAudio/私.yomi00092F63_0072.mp3</td>\n",
       "      <td>平板</td>\n",
       "      <td>ワタくシ</td>\n",
       "      <td>4</td>\n",
       "      <td>0</td>\n",
       "      <td>nhk</td>\n",
       "      <td>False</td>\n",
       "    </tr>\n",
       "    <tr>\n",
       "      <th>4</th>\n",
       "      <td>accentAudio/見る.yomi000A41BD_001E.mp3</td>\n",
       "      <td>頭高</td>\n",
       "      <td>ミル</td>\n",
       "      <td>2</td>\n",
       "      <td>1</td>\n",
       "      <td>nhk</td>\n",
       "      <td>False</td>\n",
       "    </tr>\n",
       "    <tr>\n",
       "      <th>...</th>\n",
       "      <td>...</td>\n",
       "      <td>...</td>\n",
       "      <td>...</td>\n",
       "      <td>...</td>\n",
       "      <td>...</td>\n",
       "      <td>...</td>\n",
       "      <td>...</td>\n",
       "    </tr>\n",
       "    <tr>\n",
       "      <th>163962</th>\n",
       "      <td>OjadMedia/立て-377_10_1_female.mp3</td>\n",
       "      <td>頭高</td>\n",
       "      <td>たて</td>\n",
       "      <td>2</td>\n",
       "      <td>1</td>\n",
       "      <td>ojad female</td>\n",
       "      <td>False</td>\n",
       "    </tr>\n",
       "    <tr>\n",
       "      <th>163963</th>\n",
       "      <td>OjadMedia/立てる-377_11_1_male.mp3</td>\n",
       "      <td>中高</td>\n",
       "      <td>たてる</td>\n",
       "      <td>3</td>\n",
       "      <td>2</td>\n",
       "      <td>ojad male</td>\n",
       "      <td>True</td>\n",
       "    </tr>\n",
       "    <tr>\n",
       "      <th>163964</th>\n",
       "      <td>OjadMedia/立てる-377_11_1_female.mp3</td>\n",
       "      <td>中高</td>\n",
       "      <td>たてる</td>\n",
       "      <td>3</td>\n",
       "      <td>2</td>\n",
       "      <td>ojad female</td>\n",
       "      <td>False</td>\n",
       "    </tr>\n",
       "    <tr>\n",
       "      <th>163965</th>\n",
       "      <td>OjadMedia/立とう-377_12_1_male.mp3</td>\n",
       "      <td>中高</td>\n",
       "      <td>たとう</td>\n",
       "      <td>3</td>\n",
       "      <td>2</td>\n",
       "      <td>ojad male</td>\n",
       "      <td>True</td>\n",
       "    </tr>\n",
       "    <tr>\n",
       "      <th>163966</th>\n",
       "      <td>OjadMedia/立とう-377_12_1_female.mp3</td>\n",
       "      <td>中高</td>\n",
       "      <td>たとう</td>\n",
       "      <td>3</td>\n",
       "      <td>2</td>\n",
       "      <td>ojad female</td>\n",
       "      <td>False</td>\n",
       "    </tr>\n",
       "  </tbody>\n",
       "</table>\n",
       "<p>160763 rows × 7 columns</p>\n",
       "</div>"
      ],
      "text/plain": [
       "                                        path pattern  kana  morae  drop  \\\n",
       "0       accentAudio/ある.yomi000142BB_0596.mp3      頭高    アル      2     1   \n",
       "1       accentAudio/思う.yomi0006C617_043A.mp3      中高   オモウ      3     2   \n",
       "2       accentAudio/など.yomi000240B7_0028.mp3      頭高    ナド      2     1   \n",
       "3        accentAudio/私.yomi00092F63_0072.mp3      平板  ワタくシ      4     0   \n",
       "4       accentAudio/見る.yomi000A41BD_001E.mp3      頭高    ミル      2     1   \n",
       "...                                      ...     ...   ...    ...   ...   \n",
       "163962      OjadMedia/立て-377_10_1_female.mp3      頭高    たて      2     1   \n",
       "163963       OjadMedia/立てる-377_11_1_male.mp3      中高   たてる      3     2   \n",
       "163964     OjadMedia/立てる-377_11_1_female.mp3      中高   たてる      3     2   \n",
       "163965       OjadMedia/立とう-377_12_1_male.mp3      中高   たとう      3     2   \n",
       "163966     OjadMedia/立とう-377_12_1_female.mp3      中高   たとう      3     2   \n",
       "\n",
       "               type  is_valid  \n",
       "0               nhk     False  \n",
       "1               nhk     False  \n",
       "2               nhk     False  \n",
       "3               nhk     False  \n",
       "4               nhk     False  \n",
       "...             ...       ...  \n",
       "163962  ojad female     False  \n",
       "163963    ojad male      True  \n",
       "163964  ojad female     False  \n",
       "163965    ojad male      True  \n",
       "163966  ojad female     False  \n",
       "\n",
       "[160763 rows x 7 columns]"
      ]
     },
     "execution_count": 7,
     "metadata": {},
     "output_type": "execute_result"
    }
   ],
   "source": [
    "labels"
   ]
  },
  {
   "cell_type": "code",
   "execution_count": 8,
   "id": "e1f02aa1-1dfe-40b4-9650-7b91f2de3d3c",
   "metadata": {},
   "outputs": [],
   "source": [
    "labels.pattern.replace(['頭高', '中高', '平板'], ['atamadaka', 'nakadaka', 'heiban'], inplace=True)"
   ]
  },
  {
   "cell_type": "code",
   "execution_count": 9,
   "id": "be5d46ce-0abc-4063-a662-de25e923f490",
   "metadata": {},
   "outputs": [],
   "source": [
    "pitch_cfg = AudioConfig.Voice(f_min=0, f_max=8000, n_fft=1024*2, win_length=1024, n_mels=64)"
   ]
  },
  {
   "cell_type": "code",
   "execution_count": null,
   "id": "79d6910f-d59c-471a-b75d-fc338c89b21e",
   "metadata": {},
   "outputs": [],
   "source": [
    "aud2spec = AudioToSpec.from_cfg(pitch_cfg)"
   ]
  },
  {
   "cell_type": "code",
   "execution_count": 11,
   "id": "eaa0b86d-cd0d-40d6-aef4-7f7f365b052d",
   "metadata": {},
   "outputs": [],
   "source": [
    "item_tfms = [RemoveSilence(),ResizeSignal(2000)]#, aud2spec]"
   ]
  },
  {
   "cell_type": "code",
   "execution_count": 12,
   "id": "a914cdcf-cda1-473f-85b1-169041804521",
   "metadata": {},
   "outputs": [],
   "source": [
    "def get_x(df):\n",
    "    return df.path\n",
    "def get_y(df):\n",
    "    return df.pattern"
   ]
  },
  {
   "cell_type": "code",
   "execution_count": 10,
   "id": "e8e3f508-0060-4b8e-bedb-defcb131ded6",
   "metadata": {},
   "outputs": [],
   "source": [
    "labels.path = path / labels.path"
   ]
  },
  {
   "cell_type": "code",
   "execution_count": 11,
   "id": "382d31d9-7597-4247-b678-e163a4736a84",
   "metadata": {},
   "outputs": [
    {
     "data": {
      "text/html": [
       "<div>\n",
       "<style scoped>\n",
       "    .dataframe tbody tr th:only-of-type {\n",
       "        vertical-align: middle;\n",
       "    }\n",
       "\n",
       "    .dataframe tbody tr th {\n",
       "        vertical-align: top;\n",
       "    }\n",
       "\n",
       "    .dataframe thead th {\n",
       "        text-align: right;\n",
       "    }\n",
       "</style>\n",
       "<table border=\"1\" class=\"dataframe\">\n",
       "  <thead>\n",
       "    <tr style=\"text-align: right;\">\n",
       "      <th></th>\n",
       "      <th>path</th>\n",
       "      <th>pattern</th>\n",
       "      <th>kana</th>\n",
       "      <th>morae</th>\n",
       "      <th>drop</th>\n",
       "      <th>type</th>\n",
       "      <th>is_valid</th>\n",
       "    </tr>\n",
       "  </thead>\n",
       "  <tbody>\n",
       "    <tr>\n",
       "      <th>0</th>\n",
       "      <td>pitch_accent/accentAudio/ある.yomi000142BB_0596.mp3</td>\n",
       "      <td>atamadaka</td>\n",
       "      <td>アル</td>\n",
       "      <td>2</td>\n",
       "      <td>1</td>\n",
       "      <td>nhk</td>\n",
       "      <td>False</td>\n",
       "    </tr>\n",
       "    <tr>\n",
       "      <th>1</th>\n",
       "      <td>pitch_accent/accentAudio/思う.yomi0006C617_043A.mp3</td>\n",
       "      <td>nakadaka</td>\n",
       "      <td>オモウ</td>\n",
       "      <td>3</td>\n",
       "      <td>2</td>\n",
       "      <td>nhk</td>\n",
       "      <td>False</td>\n",
       "    </tr>\n",
       "    <tr>\n",
       "      <th>2</th>\n",
       "      <td>pitch_accent/accentAudio/など.yomi000240B7_0028.mp3</td>\n",
       "      <td>atamadaka</td>\n",
       "      <td>ナド</td>\n",
       "      <td>2</td>\n",
       "      <td>1</td>\n",
       "      <td>nhk</td>\n",
       "      <td>False</td>\n",
       "    </tr>\n",
       "    <tr>\n",
       "      <th>3</th>\n",
       "      <td>pitch_accent/accentAudio/私.yomi00092F63_0072.mp3</td>\n",
       "      <td>heiban</td>\n",
       "      <td>ワタくシ</td>\n",
       "      <td>4</td>\n",
       "      <td>0</td>\n",
       "      <td>nhk</td>\n",
       "      <td>False</td>\n",
       "    </tr>\n",
       "    <tr>\n",
       "      <th>4</th>\n",
       "      <td>pitch_accent/accentAudio/見る.yomi000A41BD_001E.mp3</td>\n",
       "      <td>atamadaka</td>\n",
       "      <td>ミル</td>\n",
       "      <td>2</td>\n",
       "      <td>1</td>\n",
       "      <td>nhk</td>\n",
       "      <td>False</td>\n",
       "    </tr>\n",
       "    <tr>\n",
       "      <th>...</th>\n",
       "      <td>...</td>\n",
       "      <td>...</td>\n",
       "      <td>...</td>\n",
       "      <td>...</td>\n",
       "      <td>...</td>\n",
       "      <td>...</td>\n",
       "      <td>...</td>\n",
       "    </tr>\n",
       "    <tr>\n",
       "      <th>163962</th>\n",
       "      <td>pitch_accent/OjadMedia/立て-377_10_1_female.mp3</td>\n",
       "      <td>atamadaka</td>\n",
       "      <td>たて</td>\n",
       "      <td>2</td>\n",
       "      <td>1</td>\n",
       "      <td>ojad female</td>\n",
       "      <td>False</td>\n",
       "    </tr>\n",
       "    <tr>\n",
       "      <th>163963</th>\n",
       "      <td>pitch_accent/OjadMedia/立てる-377_11_1_male.mp3</td>\n",
       "      <td>nakadaka</td>\n",
       "      <td>たてる</td>\n",
       "      <td>3</td>\n",
       "      <td>2</td>\n",
       "      <td>ojad male</td>\n",
       "      <td>True</td>\n",
       "    </tr>\n",
       "    <tr>\n",
       "      <th>163964</th>\n",
       "      <td>pitch_accent/OjadMedia/立てる-377_11_1_female.mp3</td>\n",
       "      <td>nakadaka</td>\n",
       "      <td>たてる</td>\n",
       "      <td>3</td>\n",
       "      <td>2</td>\n",
       "      <td>ojad female</td>\n",
       "      <td>False</td>\n",
       "    </tr>\n",
       "    <tr>\n",
       "      <th>163965</th>\n",
       "      <td>pitch_accent/OjadMedia/立とう-377_12_1_male.mp3</td>\n",
       "      <td>nakadaka</td>\n",
       "      <td>たとう</td>\n",
       "      <td>3</td>\n",
       "      <td>2</td>\n",
       "      <td>ojad male</td>\n",
       "      <td>True</td>\n",
       "    </tr>\n",
       "    <tr>\n",
       "      <th>163966</th>\n",
       "      <td>pitch_accent/OjadMedia/立とう-377_12_1_female.mp3</td>\n",
       "      <td>nakadaka</td>\n",
       "      <td>たとう</td>\n",
       "      <td>3</td>\n",
       "      <td>2</td>\n",
       "      <td>ojad female</td>\n",
       "      <td>False</td>\n",
       "    </tr>\n",
       "  </tbody>\n",
       "</table>\n",
       "<p>160763 rows × 7 columns</p>\n",
       "</div>"
      ],
      "text/plain": [
       "                                                     path    pattern  kana  \\\n",
       "0       pitch_accent/accentAudio/ある.yomi000142BB_0596.mp3  atamadaka    アル   \n",
       "1       pitch_accent/accentAudio/思う.yomi0006C617_043A.mp3   nakadaka   オモウ   \n",
       "2       pitch_accent/accentAudio/など.yomi000240B7_0028.mp3  atamadaka    ナド   \n",
       "3        pitch_accent/accentAudio/私.yomi00092F63_0072.mp3     heiban  ワタくシ   \n",
       "4       pitch_accent/accentAudio/見る.yomi000A41BD_001E.mp3  atamadaka    ミル   \n",
       "...                                                   ...        ...   ...   \n",
       "163962      pitch_accent/OjadMedia/立て-377_10_1_female.mp3  atamadaka    たて   \n",
       "163963       pitch_accent/OjadMedia/立てる-377_11_1_male.mp3   nakadaka   たてる   \n",
       "163964     pitch_accent/OjadMedia/立てる-377_11_1_female.mp3   nakadaka   たてる   \n",
       "163965       pitch_accent/OjadMedia/立とう-377_12_1_male.mp3   nakadaka   たとう   \n",
       "163966     pitch_accent/OjadMedia/立とう-377_12_1_female.mp3   nakadaka   たとう   \n",
       "\n",
       "        morae  drop         type  is_valid  \n",
       "0           2     1          nhk     False  \n",
       "1           3     2          nhk     False  \n",
       "2           2     1          nhk     False  \n",
       "3           4     0          nhk     False  \n",
       "4           2     1          nhk     False  \n",
       "...       ...   ...          ...       ...  \n",
       "163962      2     1  ojad female     False  \n",
       "163963      3     2    ojad male      True  \n",
       "163964      3     2  ojad female     False  \n",
       "163965      3     2    ojad male      True  \n",
       "163966      3     2  ojad female     False  \n",
       "\n",
       "[160763 rows x 7 columns]"
      ]
     },
     "execution_count": 11,
     "metadata": {},
     "output_type": "execute_result"
    }
   ],
   "source": [
    "labels"
   ]
  },
  {
   "cell_type": "code",
   "execution_count": 12,
   "id": "a90f5f3f-0ddc-4ba0-85a9-772179978cfd",
   "metadata": {},
   "outputs": [],
   "source": [
    "labels.to_csv(\"training.csv\")"
   ]
  },
  {
   "cell_type": "code",
   "execution_count": 15,
   "id": "cf805ddc-0df7-46e4-a6fc-cf45787d63cc",
   "metadata": {},
   "outputs": [],
   "source": [
    "dblock = DataBlock(blocks=[AudioBlock, CategoryBlock],\n",
    "                  item_tfms=item_tfms,\n",
    "                  batch_tfms=[aud2spec],\n",
    "                  get_x=get_x,\n",
    "                  get_y=get_y,\n",
    "                  splitter=ColSplitter())"
   ]
  },
  {
   "cell_type": "code",
   "execution_count": 16,
   "id": "e8d763e4-9fcd-4f87-b165-28fd0ac06489",
   "metadata": {},
   "outputs": [],
   "source": [
    "dls = dblock.dataloaders(labels, shuffle=True, bs=128)"
   ]
  },
  {
   "cell_type": "code",
   "execution_count": 32,
   "id": "f64684a3-88a5-4160-852a-c4f7db556567",
   "metadata": {},
   "outputs": [],
   "source": [
    "save_pickle('pitch_dls', dls)"
   ]
  },
  {
   "cell_type": "code",
   "execution_count": 17,
   "id": "85298e24-9376-4d3d-8888-aa8caf0f66f3",
   "metadata": {},
   "outputs": [],
   "source": [
    "def show_spec_batch(dls):\n",
    "    _,axes = plt.subplots(3,3, figsize=(12,8))\n",
    "    for (spec, pattern),ax in zip(dls.show_batch(show=False)[2], axes.flatten()):\n",
    "        show_image(spec, title=pattern, ax=ax).invert_yaxis()"
   ]
  },
  {
   "cell_type": "code",
   "execution_count": 18,
   "id": "c5d17c1f-45b1-44c0-a8ae-08fb32c04b1f",
   "metadata": {},
   "outputs": [
    {
     "data": {
      "image/png": "[encoded data removed]",
      "text/plain": [
       "<Figure size 864x576 with 9 Axes>"
      ]
     },
     "metadata": {
      "needs_background": "light"
     },
     "output_type": "display_data"
    }
   ],
   "source": [
    "show_spec_batch(dls)"
   ]
  },
  {
   "cell_type": "code",
   "execution_count": 19,
   "id": "7abcfdb7-c9af-4eeb-9ca6-986a5cd3cfb0",
   "metadata": {},
   "outputs": [],
   "source": [
    "class Model(Module):\n",
    "    \n",
    "    def __init__(self, input_dim, hidden_size, output_size):\n",
    "        \n",
    "        self.rnn = nn.LSTM(input_size=input_dim, hidden_size=hidden_size, batch_first=True)\n",
    "        self.head = nn.Linear(hidden_size, output_size)\n",
    "        \n",
    "    def forward(self, x):\n",
    "        \n",
    "        output, _ = self.rnn(x.transpose(-1,-2).squeeze())\n",
    "        return self.head(output[:,-1])"
   ]
  },
  {
   "cell_type": "code",
   "execution_count": 20,
   "id": "6d01da7e-181e-4c62-8a70-d26a9db2f43e",
   "metadata": {},
   "outputs": [],
   "source": [
    "x = dls.one_batch()[0]"
   ]
  },
  {
   "cell_type": "code",
   "execution_count": 21,
   "id": "c6e04013-39b3-426a-a6c2-be833bb461ca",
   "metadata": {},
   "outputs": [],
   "source": [
    "input_dim = x.shape[2]"
   ]
  },
  {
   "cell_type": "code",
   "execution_count": 31,
   "id": "a45ffde0-d06d-49e8-9012-42f66f686ebd",
   "metadata": {},
   "outputs": [],
   "source": [
    "model = Model(input_dim = input_dim, hidden_size = input_dim*2, output_size=3).cuda()"
   ]
  },
  {
   "cell_type": "code",
   "execution_count": 30,
   "id": "5d72cebb-dfe8-4509-b892-3819fe53ac96",
   "metadata": {},
   "outputs": [
    {
     "data": {
      "text/html": [
       "\n",
       "                    Syncing run <strong><a href=\"https://wandb.ai/mizoru/LSTM%20pitch/runs/1zk9zst1\" target=\"_blank\">autumn-dawn-7</a></strong> to <a href=\"https://wandb.ai/mizoru/LSTM%20pitch\" target=\"_blank\">Weights & Biases</a> (<a href=\"https://docs.wandb.com/integrations/jupyter.html\" target=\"_blank\">docs</a>).<br/>\n",
       "\n",
       "                "
      ],
      "text/plain": [
       "<IPython.core.display.HTML object>"
      ]
     },
     "metadata": {},
     "output_type": "display_data"
    }
   ],
   "source": [
    "import wandb\n",
    "from fastai.callback.wandb import *\n",
    "run = wandb.init(project='LSTM pitch')"
   ]
  },
  {
   "cell_type": "code",
   "execution_count": 24,
   "id": "4998b77d-44ab-4bcb-a170-3a9319d90809",
   "metadata": {},
   "outputs": [],
   "source": [
    "WANDB_NOTEBOOK_NAME = 'pitch LSTM'"
   ]
  },
  {
   "cell_type": "code",
   "execution_count": 32,
   "id": "d167760a-1a01-4079-b6fe-422023ae41fd",
   "metadata": {},
   "outputs": [],
   "source": [
    "learn = Learner(dls, model, metrics = [accuracy, F1Score(average='weighted')],\n",
    "                cbs=[WandbCallback(log='all'), SaveModelCallback()])"
   ]
  },
  {
   "cell_type": "code",
   "execution_count": 26,
   "id": "83a0fdf5-1d70-4a77-81af-6f49e4c13c2a",
   "metadata": {
    "tags": []
   },
   "outputs": [
    {
     "data": {
      "text/html": [],
      "text/plain": [
       "<IPython.core.display.HTML object>"
      ]
     },
     "metadata": {},
     "output_type": "display_data"
    },
    {
     "data": {
      "text/plain": [
       "SuggestedLRs(valley=0.0003981071640737355)"
      ]
     },
     "execution_count": 26,
     "metadata": {},
     "output_type": "execute_result"
    },
    {
     "data": {
      "image/png": "[encoded data removed]",
      "text/plain": [
       "<Figure size 432x288 with 1 Axes>"
      ]
     },
     "metadata": {
      "needs_background": "light"
     },
     "output_type": "display_data"
    }
   ],
   "source": [
    "learn.lr_find()"
   ]
  },
  {
   "cell_type": "code",
   "execution_count": null,
   "id": "9e91e043-8b86-457a-a35e-6b300a7892f6",
   "metadata": {},
   "outputs": [
    {
     "data": {
      "text/html": [
       "\n",
       "    <div>\n",
       "        <style>\n",
       "            /* Turns off some styling */\n",
       "            progress {\n",
       "                /* gets rid of default border in Firefox and Opera. */\n",
       "                border: none;\n",
       "                /* Needs to be in here for Safari polyfill so background images work as expected. */\n",
       "                background-size: auto;\n",
       "            }\n",
       "            .progress-bar-interrupted, .progress-bar-interrupted::-webkit-progress-bar {\n",
       "                background: #F44336;\n",
       "            }\n",
       "        </style>\n",
       "      <progress value='1' class='' max='4' style='width:300px; height:20px; vertical-align: middle;'></progress>\n",
       "      25.00% [1/4 08:03<24:11]\n",
       "    </div>\n",
       "    \n",
       "<table border=\"1\" class=\"dataframe\">\n",
       "  <thead>\n",
       "    <tr style=\"text-align: left;\">\n",
       "      <th>epoch</th>\n",
       "      <th>train_loss</th>\n",
       "      <th>valid_loss</th>\n",
       "      <th>accuracy</th>\n",
       "      <th>f1_score</th>\n",
       "      <th>time</th>\n",
       "    </tr>\n",
       "  </thead>\n",
       "  <tbody>\n",
       "    <tr>\n",
       "      <td>0</td>\n",
       "      <td>0.395985</td>\n",
       "      <td>0.464836</td>\n",
       "      <td>0.842124</td>\n",
       "      <td>0.804415</td>\n",
       "      <td>08:03</td>\n",
       "    </tr>\n",
       "  </tbody>\n",
       "</table><p>\n",
       "\n",
       "    <div>\n",
       "        <style>\n",
       "            /* Turns off some styling */\n",
       "            progress {\n",
       "                /* gets rid of default border in Firefox and Opera. */\n",
       "                border: none;\n",
       "                /* Needs to be in here for Safari polyfill so background images work as expected. */\n",
       "                background-size: auto;\n",
       "            }\n",
       "            .progress-bar-interrupted, .progress-bar-interrupted::-webkit-progress-bar {\n",
       "                background: #F44336;\n",
       "            }\n",
       "        </style>\n",
       "      <progress value='548' class='' max='925' style='width:300px; height:20px; vertical-align: middle;'></progress>\n",
       "      59.24% [548/925 03:35<02:28 0.3392]\n",
       "    </div>\n",
       "    "
      ],
      "text/plain": [
       "<IPython.core.display.HTML object>"
      ]
     },
     "metadata": {},
     "output_type": "display_data"
    },
    {
     "name": "stdout",
     "output_type": "stream",
     "text": [
      "WandbCallback was not able to get prediction samples -> wandb.log must be passed a dictionary\n",
      "Better model found at epoch 0 with valid_loss value: 0.4648357629776001.\n"
     ]
    }
   ],
   "source": [
    "learn.fit_one_cycle(4, 1e-3)"
   ]
  },
  {
   "cell_type": "code",
   "execution_count": 36,
   "id": "c79e876c-054b-4af2-8789-0e195a802595",
   "metadata": {},
   "outputs": [],
   "source": [
    "log_model(\"models/model.pth\")"
   ]
  },
  {
   "cell_type": "code",
   "execution_count": 37,
   "id": "a82c5736-7dbf-4b92-bf2e-1a070aead589",
   "metadata": {},
   "outputs": [
    {
     "name": "stderr",
     "output_type": "stream",
     "text": [
      "\u001b[34m\u001b[1mwandb\u001b[0m: Adding directory to artifact (/home/studio-lab-user/pitch_accent/accentAudio)... Done. 13.5s\n",
      "\u001b[34m\u001b[1mwandb\u001b[0m: Adding directory to artifact (/home/studio-lab-user/pitch_accent/OjadMedia)... Done. 14.2s\n",
      "\u001b[34m\u001b[1mwandb\u001b[0m: Adding directory to artifact (/home/studio-lab-user/pitch_accent/.ipynb_checkpoints)... Done. 0.0s\n"
     ]
    }
   ],
   "source": [
    "log_dataset(\"pitch_accent\")"
   ]
  },
  {
   "cell_type": "code",
   "execution_count": 40,
   "id": "387d930d-175b-4ba9-bcae-4fcf3a287727",
   "metadata": {},
   "outputs": [
    {
     "data": {
      "text/html": [
       "<br/>Waiting for W&B process to finish, PID 29532... <strong style=\"color:green\">(success).</strong>"
      ],
      "text/plain": [
       "<IPython.core.display.HTML object>"
      ]
     },
     "metadata": {},
     "output_type": "display_data"
    },
    {
     "data": {
      "application/vnd.jupyter.widget-view+json": {
       "model_id": "",
       "version_major": 2,
       "version_minor": 0
      },
      "text/plain": [
       "VBox(children=(Label(value=' 0.38MB of 0.38MB uploaded (0.00MB deduped)\\r'), FloatProgress(value=1.0, max=1.0)…"
      ]
     },
     "metadata": {},
     "output_type": "display_data"
    },
    {
     "data": {
      "text/html": [
       "<style>\n",
       "    table.wandb td:nth-child(1) { padding: 0 10px; text-align: right }\n",
       "    .wandb-row { display: flex; flex-direction: row; flex-wrap: wrap; width: 100% }\n",
       "    .wandb-col { display: flex; flex-direction: column; flex-basis: 100%; flex: 1; padding: 10px; }\n",
       "    </style>\n",
       "<div class=\"wandb-row\"><div class=\"wandb-col\">\n",
       "<h3>Run history:</h3><br/><table class=\"wandb\"><tr><td>accuracy</td><td>█▁▂▂</td></tr><tr><td>epoch</td><td>▁▁▁▁▂▂▂▂▂▃▃▃▃▃▃▄▄▄▄▄▅▅▅▅▅▅▆▆▆▆▆▇▇▇▇▇▇███</td></tr><tr><td>eps_0</td><td>▁▁▁▁▁▁▁▁▁▁▁▁▁▁▁▁▁▁▁▁▁▁▁▁▁▁▁▁▁▁▁▁▁▁▁▁▁▁▁▁</td></tr><tr><td>f1_score</td><td>▆▁██</td></tr><tr><td>lr_0</td><td>▁▁▂▃▄▅▆▇███████▇▇▇▇▆▆▆▅▅▅▄▄▄▃▃▃▂▂▂▂▁▁▁▁▁</td></tr><tr><td>mom_0</td><td>██▇▆▅▄▃▂▁▁▁▁▁▁▁▂▂▂▂▃▃▃▄▄▄▅▅▅▆▆▆▇▇▇▇█████</td></tr><tr><td>raw_loss</td><td>██▇▆▆▅▄▄▃▃▃▄▃▂▂▃▃▃▂▂▂▃▂▁▂▂▁▂▂▁▂▁▁▁▁▁▁▁▁▁</td></tr><tr><td>sqr_mom_0</td><td>▁▁▁▁▁▁▁▁▁▁▁▁▁▁▁▁▁▁▁▁▁▁▁▁▁▁▁▁▁▁▁▁▁▁▁▁▁▁▁▁</td></tr><tr><td>train_loss</td><td>██▇▇▆▅▄▃▃▃▃▃▃▂▂▂▂▂▂▂▂▂▂▂▂▂▁▁▁▁▁▁▁▁▁▁▁▁▁▁</td></tr><tr><td>valid_loss</td><td>▂█▁▁</td></tr><tr><td>wd_0</td><td>▁▁▁▁▁▁▁▁▁▁▁▁▁▁▁▁▁▁▁▁▁▁▁▁▁▁▁▁▁▁▁▁▁▁▁▁▁▁▁▁</td></tr></table><br/></div><div class=\"wandb-col\">\n",
       "<h3>Run summary:</h3><br/><table class=\"wandb\"><tr><td>accuracy</td><td>0.79871</td></tr><tr><td>epoch</td><td>4</td></tr><tr><td>eps_0</td><td>1e-05</td></tr><tr><td>f1_score</td><td>0.81208</td></tr><tr><td>lr_0</td><td>0.0</td></tr><tr><td>mom_0</td><td>0.95</td></tr><tr><td>raw_loss</td><td>0.18592</td></tr><tr><td>sqr_mom_0</td><td>0.99</td></tr><tr><td>train_loss</td><td>0.18726</td></tr><tr><td>valid_loss</td><td>0.45333</td></tr><tr><td>wd_0</td><td>0.01</td></tr></table>\n",
       "</div></div>\n",
       "Synced 6 W&B file(s), 0 media file(s), 1 artifact file(s) and 0 other file(s)\n",
       "<br/>Synced <strong style=\"color:#cdcd00\">autumn-dawn-7</strong>: <a href=\"https://wandb.ai/mizoru/LSTM%20pitch/runs/1zk9zst1\" target=\"_blank\">https://wandb.ai/mizoru/LSTM%20pitch/runs/1zk9zst1</a><br/>\n",
       "Find logs at: <code>./wandb/run-20220221_165353-1zk9zst1/logs</code><br/>\n"
      ],
      "text/plain": [
       "<IPython.core.display.HTML object>"
      ]
     },
     "metadata": {},
     "output_type": "display_data"
    }
   ],
   "source": [
    "run.finish()"
   ]
  },
  {
   "cell_type": "code",
   "execution_count": null,
   "id": "d403b3c2-6452-409f-9676-f741f1172f7b",
   "metadata": {},
   "outputs": [],
   "source": []
  }
 ],
 "metadata": {
  "kernelspec": {
   "display_name": "default:Python",
   "language": "python",
   "name": "conda-env-default-py"
  },
  "language_info": {
   "codemirror_mode": {
    "name": "ipython",
    "version": 3
   },
   "file_extension": ".py",
   "mimetype": "text/x-python",
   "name": "python",
   "nbconvert_exporter": "python",
   "pygments_lexer": "ipython3",
   "version": "3.9.7"
  }
 },
 "nbformat": 4,
 "nbformat_minor": 5
}
